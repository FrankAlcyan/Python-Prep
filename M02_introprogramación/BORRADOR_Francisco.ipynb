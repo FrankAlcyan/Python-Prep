{
 "cells": [
  {
   "cell_type": "code",
   "execution_count": 38,
   "metadata": {},
   "outputs": [
    {
     "name": "stdout",
     "output_type": "stream",
     "text": [
      "a es menor que b\n"
     ]
    }
   ],
   "source": [
    "a = 5\n",
    "b = 7\n",
    "\n",
    "if a < b:\n",
    "    print('a es menor que b')   #a<b print esto\n",
    "elif a > b:\n",
    "    print('a es mayor que b')   #si ademas a>b print esto\n",
    "else:\n",
    "    print('a y b son iguales')  #ademas print esto si no se cumplen las condiciones anteiores."
   ]
  },
  {
   "cell_type": "code",
   "execution_count": 37,
   "metadata": {},
   "outputs": [
    {
     "name": "stdout",
     "output_type": "stream",
     "text": [
      "2\n",
      "1\n",
      "True\n",
      "True\n"
     ]
    }
   ],
   "source": [
    "print(5 // 2)       #parte entera de una division\n",
    "print(5%2)          #division resto\n",
    "print (4!=3)        # es distinto a\n",
    "print (4==4)        # es igual a "
   ]
  },
  {
   "cell_type": "code",
   "execution_count": 5,
   "metadata": {},
   "outputs": [
    {
     "name": "stdout",
     "output_type": "stream",
     "text": [
      "el resultado es positivo\n"
     ]
    }
   ],
   "source": [
    "a=4\n",
    "b=10\n",
    "if (a*b-50>0):                             #ete ejemplo lo inventê yo con una ecuación.\n",
    "    print ('el resultado es negativo')\n",
    "else:\n",
    "    print( \"el resultado es positivo\")"
   ]
  },
  {
   "cell_type": "code",
   "execution_count": 15,
   "metadata": {},
   "outputs": [
    {
     "name": "stdout",
     "output_type": "stream",
     "text": [
      "2\n",
      "3\n",
      "4\n",
      "5\n",
      "6\n"
     ]
    }
   ],
   "source": [
    "numeros = [1,2,3,4,5]\n",
    "for num in numeros:  #mete cada numero en la variable num\n",
    "    suma= num+1      #la variable suma acumula el resultado de num-1\n",
    "    print(suma)"
   ]
  },
  {
   "cell_type": "code",
   "execution_count": 20,
   "metadata": {},
   "outputs": [
    {
     "name": "stdout",
     "output_type": "stream",
     "text": [
      "2\n",
      "3\n",
      "4\n",
      "5\n",
      "6\n"
     ]
    }
   ],
   "source": [
    "numeros=range(1,6)\n",
    "for acum in numeros:    #conocemos la cantidad maxima exacta de iteraciones (pasos) que va a haber\n",
    "    suma=acum+1         # acumulador de num (hasta que cumplir lo que dice Range)\n",
    "    print(suma)\n",
    "\n"
   ]
  },
  {
   "cell_type": "code",
   "execution_count": 19,
   "metadata": {},
   "outputs": [
    {
     "name": "stdout",
     "output_type": "stream",
     "text": [
      "num  1\n",
      "num  2\n",
      "num  3\n",
      "num  4\n",
      "num  5\n"
     ]
    }
   ],
   "source": [
    "num=1                    #valor inicial de la varible\n",
    "while num < 6:           #condicion de corte del  while (a diferencia de FOR)\n",
    "    print(\"num \", num)   #imprime num hasta que se cumple la condicion de corte\n",
    "    num =num+1           # acumulador de num (hasta que la condicion deje de cumplirse)\n",
    "                         # guarda con la condcion de cierre para evitar el bucel infinito!"
   ]
  },
  {
   "cell_type": "code",
   "execution_count": 24,
   "metadata": {},
   "outputs": [
    {
     "name": "stdout",
     "output_type": "stream",
     "text": [
      "0\n",
      "1\n",
      "2\n",
      "3\n",
      "4\n"
     ]
    }
   ],
   "source": [
    "for i in range(5):    #range en este caso va de 0 a 5. muy bueno\n",
    "    print(i)          # ojo con la indentacion"
   ]
  },
  {
   "cell_type": "code",
   "execution_count": 26,
   "metadata": {},
   "outputs": [
    {
     "name": "stdout",
     "output_type": "stream",
     "text": [
      "0\n"
     ]
    }
   ],
   "source": [
    "for i in range(5):    #range en este caso va de 0 a 5. muy bueno\n",
    "    print(i)\n",
    "    break             #al ponerle break corta la iteracion al toque"
   ]
  },
  {
   "cell_type": "code",
   "execution_count": 27,
   "metadata": {},
   "outputs": [
    {
     "name": "stdout",
     "output_type": "stream",
     "text": [
      "P\n",
      "y\n",
      "t\n",
      "Se encontró la h\n"
     ]
    }
   ],
   "source": [
    "cadena = 'Python'                   #un string es una variable\n",
    "for letra in cadena:                #buscar letra en la variable cadena\n",
    "    if letra == 'h':                # si letra es igual a 'xxx', entonces...\n",
    "        print(\"Se encontró la h\")   #imprimir lo que sea\n",
    "        break                       #no es necesario iterar ,que pare cuando encuentre la letra\n",
    "    print(letra)"
   ]
  },
  {
   "cell_type": "code",
   "execution_count": 28,
   "metadata": {},
   "outputs": [
    {
     "name": "stdout",
     "output_type": "stream",
     "text": [
      "4\n",
      "3\n",
      "2\n",
      "1\n",
      "0\n",
      "Fin del bucle\n"
     ]
    }
   ],
   "source": [
    "x = 5                              #parte de 5\n",
    "while True:                        #observa aca la condición \"True\" mientras que sea verdad que...\n",
    "    x -= 1                         #resta 1 a x \n",
    "    print(x)\n",
    "    if x == 0:                     #condicion de la iteracion hasta que x=0\n",
    "        break\n",
    "print(\"Fin del bucle\")             #cuando se cumple la condicion "
   ]
  },
  {
   "cell_type": "code",
   "execution_count": 30,
   "metadata": {},
   "outputs": [
    {
     "name": "stdout",
     "output_type": "stream",
     "text": [
      "y\n",
      "t\n",
      "h\n",
      "o\n",
      "n\n"
     ]
    }
   ],
   "source": [
    "cadena = 'Python'\n",
    "for letra in cadena:\n",
    "    if letra == 'P':\n",
    "        continue                #vuelve al principio si es necesario iterar. Salta el print y no muestra la letra P\n",
    "    print(letra)"
   ]
  },
  {
   "cell_type": "code",
   "execution_count": null,
   "metadata": {},
   "outputs": [],
   "source": [
    "# f-string en el print VER ABAJO: f-string o formatted string literals en Python. Las f-strings permiten incrustar expresiones dentro de una cadena de texto mediante llaves {} y el prefijo \"f\" antes de la cadena. Dentro de las llaves, puedes colocar variables, expresiones o incluso invocar funciones para su evaluación e inclusión en la cadena resultante.\n",
    "a = 3.2\n",
    "b = 2\n",
    "print(f'Las variables {a} y {b} son del mismo tipo de dato')"
   ]
  },
  {
   "cell_type": "markdown",
   "metadata": {},
   "source": [
    "Verificar que la variable es de cierto tipo usando IF "
   ]
  },
  {
   "cell_type": "code",
   "execution_count": 10,
   "metadata": {},
   "outputs": [
    {
     "name": "stdout",
     "output_type": "stream",
     "text": [
      "la variable no es entera\n"
     ]
    }
   ],
   "source": [
    "q=5.4\n",
    "if type(q)==int:\n",
    "    print('la variable es entera')\n",
    "else:\n",
    "    print('la variable no es entera')\n"
   ]
  }
 ],
 "metadata": {
  "kernelspec": {
   "display_name": "Python 3",
   "language": "python",
   "name": "python3"
  },
  "language_info": {
   "codemirror_mode": {
    "name": "ipython",
    "version": 3
   },
   "file_extension": ".py",
   "mimetype": "text/x-python",
   "name": "python",
   "nbconvert_exporter": "python",
   "pygments_lexer": "ipython3",
   "version": "3.11.4"
  },
  "orig_nbformat": 4
 },
 "nbformat": 4,
 "nbformat_minor": 2
}
