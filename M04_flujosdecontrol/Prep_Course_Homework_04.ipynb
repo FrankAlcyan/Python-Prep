{
 "cells": [
  {
   "attachments": {},
   "cell_type": "markdown",
   "metadata": {},
   "source": [
    "## Flujos de Control"
   ]
  },
  {
   "attachments": {},
   "cell_type": "markdown",
   "metadata": {},
   "source": [
    "1) Crear una variable que contenga un elemento del conjunto de números enteros y luego imprimir por pantalla si es mayor o menor a cero"
   ]
  },
  {
   "cell_type": "code",
   "execution_count": 11,
   "metadata": {},
   "outputs": [
    {
     "name": "stdout",
     "output_type": "stream",
     "text": [
      "equis es menor que cero\n"
     ]
    }
   ],
   "source": [
    "equis=-7\n",
    "if equis >0:\n",
    "    print('ekis es mayor que cero')\n",
    "elif equis<0:\n",
    "    print('equis es menor que cero')\n",
    "else:\n",
    "    print('equis e igual a cero')\n",
    "\n",
    "\n",
    "\n"
   ]
  },
  {
   "attachments": {},
   "cell_type": "markdown",
   "metadata": {},
   "source": [
    "2) Crear dos variables y un condicional que informe si son del mismo tipo de dato"
   ]
  },
  {
   "cell_type": "code",
   "execution_count": 12,
   "metadata": {},
   "outputs": [
    {
     "name": "stdout",
     "output_type": "stream",
     "text": [
      "las variables son diferentes\n"
     ]
    }
   ],
   "source": [
    "toto=2\n",
    "tito=3.5\n",
    "if type(toto)==type(tito):\n",
    "    print('las variables son iguales')\n",
    "else:\n",
    "    print('las variables son diferentes')\n",
    "    "
   ]
  },
  {
   "attachments": {},
   "cell_type": "markdown",
   "metadata": {},
   "source": [
    "3) Para los valores enteros del 1 al 20, imprimir por pantalla si es par o impar"
   ]
  },
  {
   "cell_type": "code",
   "execution_count": 33,
   "metadata": {},
   "outputs": [
    {
     "name": "stdout",
     "output_type": "stream",
     "text": [
      "3 definitivamente es impar\n",
      "4 sin lugar a dudas es un numero par\n",
      "5 definitivamente es impar\n",
      "6 sin lugar a dudas es un numero par\n",
      "7 definitivamente es impar\n",
      "8 sin lugar a dudas es un numero par\n",
      "9 definitivamente es impar\n",
      "10 sin lugar a dudas es un numero par\n",
      "11 definitivamente es impar\n",
      "12 sin lugar a dudas es un numero par\n",
      "13 definitivamente es impar\n",
      "14 sin lugar a dudas es un numero par\n",
      "15 definitivamente es impar\n",
      "16 sin lugar a dudas es un numero par\n",
      "17 definitivamente es impar\n",
      "18 sin lugar a dudas es un numero par\n",
      "19 definitivamente es impar\n"
     ]
    }
   ],
   "source": [
    "nument=3\n",
    "while nument<20:\n",
    "    if nument%2==0:\n",
    "        print(nument, 'sin lugar a dudas es un numero par')\n",
    "    else:\n",
    "        print(nument, 'definitivamente es impar')\n",
    "    nument=nument+1\n",
    "    \n",
    "\n",
    "\n"
   ]
  },
  {
   "attachments": {},
   "cell_type": "markdown",
   "metadata": {},
   "source": [
    "4) En un ciclo for mostrar para los valores entre 0 y 5 el resultado de elevarlo a la potencia igual a 3"
   ]
  },
  {
   "cell_type": "code",
   "execution_count": 41,
   "metadata": {},
   "outputs": [
    {
     "name": "stdout",
     "output_type": "stream",
     "text": [
      "0 0\n",
      "1 1\n",
      "2 8\n",
      "3 27\n",
      "4 64\n",
      "5 125\n"
     ]
    }
   ],
   "source": [
    "\n",
    "num=0\n",
    "i=3\n",
    "while num<=5:\n",
    "    print(num,num**i)\n",
    "    num=num+1\n"
   ]
  },
  {
   "attachments": {},
   "cell_type": "markdown",
   "metadata": {},
   "source": [
    "5) Crear una variable que contenga un número entero y realizar un ciclo for la misma cantidad de ciclos"
   ]
  },
  {
   "cell_type": "code",
   "execution_count": 7,
   "metadata": {},
   "outputs": [
    {
     "name": "stdout",
     "output_type": "stream",
     "text": [
      "0\n",
      "1\n",
      "2\n"
     ]
    }
   ],
   "source": [
    "num=3\n",
    "for i in range(num):\n",
    "    print(i)\n",
    "    \n"
   ]
  },
  {
   "attachments": {},
   "cell_type": "markdown",
   "metadata": {},
   "source": [
    "6) Utilizar un ciclo while para realizar el factorial de un número guardado en una variable, sólo si la variable contiene un número entero mayor a 0"
   ]
  },
  {
   "cell_type": "code",
   "execution_count": 57,
   "metadata": {},
   "outputs": [
    {
     "name": "stdout",
     "output_type": "stream",
     "text": [
      "120\n"
     ]
    }
   ],
   "source": [
    "q=5\n",
    "fact=q\n",
    "if type(q)==int and q>0:\n",
    "    while True:\n",
    "        q=q-1\n",
    "        fact=fact*q\n",
    "        if q==1:\n",
    "            break\n",
    "else:\n",
    "    print(f'la variable {q} no es entera o es menor que cero: verificar')\n",
    "print(fact)"
   ]
  },
  {
   "attachments": {},
   "cell_type": "markdown",
   "metadata": {},
   "source": [
    "7) Crear un ciclo for dentro de un ciclo while"
   ]
  },
  {
   "cell_type": "code",
   "execution_count": 25,
   "metadata": {},
   "outputs": [
    {
     "ename": "TypeError",
     "evalue": "'int' object is not iterable",
     "output_type": "error",
     "traceback": [
      "\u001b[0;31m---------------------------------------------------------------------------\u001b[0m",
      "\u001b[0;31mTypeError\u001b[0m                                 Traceback (most recent call last)",
      "Cell \u001b[0;32mIn[25], line 3\u001b[0m\n\u001b[1;32m      1\u001b[0m m\u001b[39m=\u001b[39m\u001b[39m1\u001b[39m\n\u001b[1;32m      2\u001b[0m \u001b[39mwhile\u001b[39;00m m\u001b[39m<\u001b[39m\u001b[39m10\u001b[39m:\n\u001b[0;32m----> 3\u001b[0m         \u001b[39mfor\u001b[39;00m i \u001b[39min\u001b[39;00m \u001b[39m5\u001b[39m:\n\u001b[1;32m      4\u001b[0m             \u001b[39mprint\u001b[39m(m)\n\u001b[1;32m      5\u001b[0m         i\u001b[39m=\u001b[39mi\u001b[39m+\u001b[39m\u001b[39m1\u001b[39m\n",
      "\u001b[0;31mTypeError\u001b[0m: 'int' object is not iterable"
     ]
    }
   ],
   "source": [
    "m=1\n",
    "while m<10:\n",
    "        for i in 5:\n",
    "            print(m)\n",
    "        i=i+1\n",
    "    "
   ]
  },
  {
   "attachments": {},
   "cell_type": "markdown",
   "metadata": {},
   "source": [
    "8) Crear un ciclo while dentro de un ciclo for"
   ]
  },
  {
   "cell_type": "code",
   "execution_count": null,
   "metadata": {},
   "outputs": [],
   "source": []
  },
  {
   "attachments": {},
   "cell_type": "markdown",
   "metadata": {},
   "source": [
    "9) Imprimir los números primos existentes entre 0 y 30"
   ]
  },
  {
   "cell_type": "code",
   "execution_count": 72,
   "metadata": {},
   "outputs": [
    {
     "name": "stdout",
     "output_type": "stream",
     "text": [
      "0 1 0.0\n",
      "1 2 0.5\n",
      "2 3 0.6666666666666666\n",
      "3 4 0.75\n",
      "4 5 0.8\n",
      "5 6 0.8333333333333334\n",
      "6 7 0.8571428571428571\n",
      "7 8 0.875\n",
      "8 9 0.8888888888888888\n",
      "9 10 0.9\n",
      "10 11 0.9090909090909091\n",
      "11 12 0.9166666666666666\n",
      "12 13 0.9230769230769231\n",
      "13 14 0.9285714285714286\n",
      "14 15 0.9333333333333333\n",
      "15 16 0.9375\n",
      "16 17 0.9411764705882353\n",
      "17 18 0.9444444444444444\n",
      "18 19 0.9473684210526315\n",
      "19 20 0.95\n",
      "20 21 0.9523809523809523\n",
      "21 22 0.9545454545454546\n",
      "22 23 0.9565217391304348\n",
      "23 24 0.9583333333333334\n",
      "24 25 0.96\n",
      "25 26 0.9615384615384616\n",
      "26 27 0.9629629629629629\n",
      "27 28 0.9642857142857143\n",
      "28 29 0.9655172413793104\n",
      "29 30 0.9666666666666667\n"
     ]
    }
   ],
   "source": [
    "numeros=range(0,30)\n",
    "for acum in numeros:               #conocemos la cantidad maxima exacta de iteraciones (pasos) que va a haber\n",
    "    suma=acum+1                         # acumulador de num (hasta que cumplir lo que dice Range)\n",
    "    resto=acum/suma\n",
    "    print(acum, suma,resto)\n",
    "\n"
   ]
  },
  {
   "attachments": {},
   "cell_type": "markdown",
   "metadata": {},
   "source": [
    "10) ¿Se puede mejorar el proceso del punto 9? Utilizar las sentencias break y/ó continue para tal fin"
   ]
  },
  {
   "cell_type": "code",
   "execution_count": null,
   "metadata": {},
   "outputs": [],
   "source": []
  },
  {
   "attachments": {},
   "cell_type": "markdown",
   "metadata": {},
   "source": [
    "11) En los puntos 9 y 10, se diseño un código que encuentra números primos y además se lo optimizó. ¿Es posible saber en qué medida se optimizó?"
   ]
  },
  {
   "cell_type": "code",
   "execution_count": null,
   "metadata": {},
   "outputs": [],
   "source": []
  },
  {
   "attachments": {},
   "cell_type": "markdown",
   "metadata": {},
   "source": [
    "12) Aplicando continue, armar un ciclo while que solo imprima los valores divisibles por 12, dentro del rango de números de 100 a 300"
   ]
  },
  {
   "cell_type": "code",
   "execution_count": null,
   "metadata": {},
   "outputs": [],
   "source": []
  },
  {
   "attachments": {},
   "cell_type": "markdown",
   "metadata": {},
   "source": [
    "13) Utilizar la función **input()** que permite hacer ingresos por teclado, para encontrar números primos y dar la opción al usario de buscar el siguiente"
   ]
  },
  {
   "cell_type": "code",
   "execution_count": null,
   "metadata": {},
   "outputs": [],
   "source": []
  },
  {
   "attachments": {},
   "cell_type": "markdown",
   "metadata": {},
   "source": [
    "14) Crear un ciclo while que encuentre dentro del rango de 100 a 300 el primer número divisible por 3 y además múltiplo de 6"
   ]
  },
  {
   "cell_type": "code",
   "execution_count": null,
   "metadata": {},
   "outputs": [],
   "source": []
  }
 ],
 "metadata": {
  "interpreter": {
   "hash": "c85384e4cb51c8b72350f3a8712cc8351fdc3955e32a27f9b60c6242ab125f01"
  },
  "kernelspec": {
   "display_name": "Python 3 (ipykernel)",
   "language": "python",
   "name": "python3"
  },
  "language_info": {
   "codemirror_mode": {
    "name": "ipython",
    "version": 3
   },
   "file_extension": ".py",
   "mimetype": "text/x-python",
   "name": "python",
   "nbconvert_exporter": "python",
   "pygments_lexer": "ipython3",
   "version": "3.11.4"
  }
 },
 "nbformat": 4,
 "nbformat_minor": 4
}
